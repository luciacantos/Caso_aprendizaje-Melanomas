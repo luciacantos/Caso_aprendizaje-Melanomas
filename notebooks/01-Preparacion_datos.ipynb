{
 "cells": [
  {
   "cell_type": "markdown",
   "id": "f533062a",
   "metadata": {},
   "source": [
    "# 🩺 Clasificación de Melanomas a partir de Imágenes\n",
    "\n",
    "## 🌑 Introducción\n",
    "El **melanoma** es un tipo de cáncer de piel que se origina en los **melanocitos**, las células encargadas de producir la melanina, el pigmento que da color a la piel, ojos y cabello.  \n",
    "Aunque representa un porcentaje pequeño de los cánceres de piel, es el **más agresivo** debido a su gran capacidad para invadir otros tejidos y producir metástasis.  \n",
    "La detección temprana es fundamental, ya que aumenta considerablemente las posibilidades de un tratamiento exitoso y de supervivencia del paciente.  \n",
    "\n",
    "---\n",
    "\n",
    "## 🔎 Metodología clínica: Regla ABCD\n",
    "En dermatología se utiliza la **regla ABCD** como guía visual para identificar posibles melanomas:  \n",
    "\n",
    "- **A – Asimetría**: los melanomas suelen tener formas irregulares; un lunar benigno suele ser simétrico.  \n",
    "- **B – Bordes**: los melanomas presentan bordes difusos, dentados o irregulares, frente a los bordes definidos de los lunares normales.  \n",
    "- **C – Color**: los melanomas pueden mostrar múltiples tonalidades (negro, marrón, rojo, azul, blanco), mientras que los lunares benignos suelen ser uniformes.  \n",
    "- **D – Diámetro**: lesiones con un diámetro superior a 6 mm se consideran sospechosas.  \n",
    "\n",
    "A esta regla a veces se añade la **E – Evolución**, que hace referencia a cambios en el tamaño, forma, color o la aparición de síntomas (picor, sangrado).  \n",
    "\n",
    "---\n",
    "\n",
    "## 🎯 Objetivo del trabajo\n",
    "El objetivo de este proyecto es **desarrollar un modelo de aprendizaje automático capaz de clasificar imágenes de lesiones cutáneas** para distinguir entre melanomas y lesiones benignas.  \n",
    "Para ello:  \n",
    "- Se trabajará con un conjunto de imágenes médicas.  \n",
    "- Se aplicará un flujo de trabajo basado en la preparación y preprocesamiento de datos, entrenamiento de modelos de deep learning y análisis de resultados.  \n",
    "- Se evaluará el desempeño de los modelos con métricas adecuadas, y se comparará con la metodología clínica tradicional basada en la regla ABCD.  \n",
    "\n",
    "Este proyecto busca **apoyar el diagnóstico médico mediante técnicas computacionales**, aportando una herramienta complementaria a la práctica clínica.\n"
   ]
  },
  {
   "cell_type": "markdown",
   "id": "cb742632",
   "metadata": {},
   "source": [
    "# IMPORTACIONES Y RUTAS NECESARIAS"
   ]
  },
  {
   "cell_type": "code",
   "execution_count": null,
   "id": "9be5a267",
   "metadata": {},
   "outputs": [],
   "source": [
    "# IMPORTACIONES\n",
    "from pathlib import Path\n",
    "\n",
    "# RUTAS\n",
    "BASE_DIR = Path(\".\").resolve()\n",
    "DATA_DIR = BASE_DIR / \"data\" / \"raw\"\n",
    "SPLITS = [\"train\", \"val\", \"test\"]\n",
    "ALLOWED_EXTS = {\".jpg\", \".jpeg\", \".png\", \".bmp\", \".tif\", \".tiff\"}"
   ]
  },
  {
   "cell_type": "markdown",
   "id": "a3bd1f98",
   "metadata": {},
   "source": [
    "## 📌 ¿Por qué separar en *train*, *validation* y *test*?\n",
    "\n",
    "En proyectos de *Machine Learning* es fundamental dividir los datos en diferentes conjuntos:\n",
    "\n",
    "- **Train (entrenamiento)**  \n",
    "  Se utiliza para que el modelo aprenda los patrones de las imágenes.  \n",
    "\n",
    "- **Validation (validación)**  \n",
    "  Sirve para ajustar hiperparámetros (número de capas, tasa de aprendizaje, etc.) y comparar modelos sin mirar el *test*.  \n",
    "  👉 Es una especie de \"examen parcial\": nos avisa si el modelo se está sobreajustando (*overfitting*) o si generaliza bien.  \n",
    "\n",
    "- **Test (prueba final)**  \n",
    "  Es el conjunto que se mantiene completamente aislado durante todo el desarrollo.  \n",
    "  👉 Representa el \"examen final\" y nos da una estimación real del rendimiento del modelo en datos nunca vistos.  \n",
    "\n",
    "✅ En este caso (clasificación de melanomas), separar en *train* y *val* es crucial porque:  \n",
    "- Ayuda a evitar *overfitting*, que sería muy peligroso si el modelo solo memoriza imágenes.  \n",
    "- Permite evaluar de manera más realista la capacidad de generalización antes de aplicarlo en un entorno clínico.  \n"
   ]
  },
  {
   "cell_type": "code",
   "execution_count": null,
   "id": "b9444ca0",
   "metadata": {},
   "outputs": [],
   "source": [
    "\n",
    "# ### 📂 Esquema de datos y conteo de imágenes\n",
    "\n",
    "\n",
    "# Función para contar imágenes por carpeta\n",
    "def count_images_in_dir(dir_path: Path):\n",
    "    if not dir_path.exists():\n",
    "        return {}\n",
    "    counts = {}\n",
    "    for cls_dir in dir_path.iterdir():\n",
    "        if cls_dir.is_dir():\n",
    "            n_imgs = sum(1 for f in cls_dir.rglob(\"*\") if f.suffix.lower() in ALLOWED_EXTS)\n",
    "            counts[cls_dir.name] = n_imgs\n",
    "    return counts\n",
    "\n",
    "# Recolectar conteos\n",
    "all_counts = {}\n",
    "for split in SPLITS:\n",
    "    split_dir = DATA_DIR / split\n",
    "    all_counts[split] = count_images_in_dir(split_dir)\n",
    "\n",
    "# Mostrar tabla\n",
    "import pandas as pd\n",
    "\n",
    "df = pd.DataFrame(all_counts).fillna(0).astype(int).T\n",
    "df[\"Total\"] = df.sum(axis=1)\n",
    "display(df)\n",
    "\n",
    "print(\"\\n✅ Conteo de imágenes completado.\")\n"
   ]
  }
 ],
 "metadata": {
  "kernelspec": {
   "display_name": ".venv",
   "language": "python",
   "name": "python3"
  },
  "language_info": {
   "name": "python",
   "version": "3.10.11"
  }
 },
 "nbformat": 4,
 "nbformat_minor": 5
}
